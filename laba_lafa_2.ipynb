{
 "cells": [
  {
   "cell_type": "markdown",
   "id": "fifteen-sailing",
   "metadata": {
    "id": "fifteen-sailing"
   },
   "source": [
    "# Лабораторная работа №2\n",
    "## Выполнил студент группы БВТ2306 Риц Дмитрий Алексеевич\n"
   ]
  },
  {
   "cell_type": "markdown",
   "id": "arctic-stocks",
   "metadata": {
    "id": "arctic-stocks"
   },
   "source": [
    "Реализовать следующие структуры данных:\n",
    "  \n",
    "● <b> Стек (stack): </b>  \n",
    "Операции для стека:\n",
    "<i> инициализация, проверка на пустоту, добавление нового элемента в начало, извлечение элемента из начала;  </i>  \n",
    "  \n",
    "● <b> Дек (двусторонняя очередь, deque):  </b>  \n",
    "Операции для дека:\n",
    "<i> инициализация, проверка на пустоту, добавление нового элемента в начало, добавление нового элемента в конец, извлечение элемента из начала, извлечение элемента из конца. </i>  \n",
    "  \n",
    "<i> Разработать программу обработки данных, содержащихся в заранее подготовленном txt-файле, в соответствии с заданиями, применив указанную в задании структуру данных. Результат работы программы вывести на экран и сохранить в отдельном txt-файле. </i>"
   ]
  },
  {
   "cell_type": "markdown",
   "id": "5d7edb08",
   "metadata": {
    "id": "5d7edb08",
    "scrolled": true
   },
   "source": [
    "### Задание №1\n",
    "Отсортировать строки файла, содержащие названия книг, в алфавитном порядке с использованием двух деков."
   ]
  },
  {
   "cell_type": "code",
   "execution_count": null,
   "id": "17702ade",
   "metadata": {
    "id": "17702ade"
   },
   "outputs": [
    {
     "name": "stdout",
     "output_type": "stream",
     "text": [
      "101 день как стать легендой бравл старса\n",
      "3лобный старик и семеро детей\n",
      "Cтарушка мадемуазель теперь в сто раз горячее\n",
      "Hапиток палпи секс на пляже\n",
      "Pошлая молли теперь пошлячка\n",
      "Mилфочка Мулатка и неожиданные приключения\n",
      "Jестокие игры с огнем, для чего такие мувы?\n",
      "Bулочка с джемом оказалась с..\n"
     ]
    }
   ],
   "source": [
    "import re\n",
    "\n",
    "class Deque:\n",
    "    def __init__(self):\n",
    "        self.items = []  \n",
    "\n",
    "    def isEmpty(self):\n",
    "        return len(self.items) == 0  \n",
    "\n",
    "    def addFront(self, item):\n",
    "        self.items.append(item) \n",
    "\n",
    "    def addRear(self, item):\n",
    "        self.items.insert(0, item) \n",
    "\n",
    "    def removeFront(self):\n",
    "        if not self.isEmpty():\n",
    "            return self.items.pop()  \n",
    "        return None\n",
    "\n",
    "    def removeRear(self):\n",
    "        if not self.isEmpty():\n",
    "            return self.items.pop(0)  \n",
    "        return None\n",
    "\n",
    "    def size(self):\n",
    "        return len(self.items)  \n",
    "\n",
    "input_file_path = 'input_1.txt'\n",
    "output_file_path = 'output_1.txt'\n",
    "\n",
    "with open(input_file_path, 'r', encoding='utf-8') as file:\n",
    "    file_contents = file.read()\n",
    "\n",
    "book_titles = re.findall(r'\"(.*?)\"', file_contents)\n",
    "book_titles = [title for title in book_titles if len(title.split()) > 1]\n",
    "\n",
    "if not book_titles:\n",
    "    book_titles = [\n",
    "        \"Война и мир\",\n",
    "        \"Преступление и наказание\",\n",
    "        \"Мастер и Маргарита\",\n",
    "        \"Анна Каренина\",\n",
    "        \"Доктор Живаго\"\n",
    "    ]\n",
    "\n",
    "deque1 = Deque()\n",
    "deque2 = Deque()\n",
    "\n",
    "for title in book_titles:\n",
    "    deque1.addRear(title)\n",
    "\n",
    "while not deque1.isEmpty():\n",
    "    current = deque1.removeFront()\n",
    "\n",
    "    while not deque2.isEmpty() and deque2.items[-1] > current:\n",
    "        deque1.addFront(deque2.removeRear())\n",
    "\n",
    "    deque2.addRear(current)\n",
    "\n",
    "with open(output_file_path, 'w', encoding='utf-8') as output_file:\n",
    "    output_file.write(\"Отсортированные названия книг:\\n\")\n",
    "    while not deque2.isEmpty():\n",
    "        title = deque2.removeFront()\n",
    "        output_file.write(f\"{title}\\n\")\n",
    "        print(title)"
   ]
  },
  {
   "cell_type": "markdown",
   "id": "49fbd2a0",
   "metadata": {
    "id": "49fbd2a0"
   },
   "source": [
    "### Задание №2\n",
    "Дек содержит последовательность символов для шифровки сообщений. Дан текстовый файл, содержащий зашифрованное сообщение. Пользуясь деком, расшифровать текст.\n",
    "Известно, что при шифровке каждый символ сообщения заменялся следующим за ним в деке по часовой стрелке через один."
   ]
  },
  {
   "cell_type": "code",
   "execution_count": 21,
   "id": "81cab7a8",
   "metadata": {
    "id": "81cab7a8"
   },
   "outputs": [
    {
     "name": "stdout",
     "output_type": "stream",
     "text": [
      "Расшифрованное сообщение:\n",
      "i love kasha\n",
      "\n",
      "\n"
     ]
    }
   ],
   "source": [
    "class Deque:\n",
    "    def __init__(self):\n",
    "        self.items = deque()\n",
    "\n",
    "    def isEmpty(self):\n",
    "        return not self.items\n",
    "\n",
    "    def addFront(self, item):\n",
    "        self.items.appendleft(item)\n",
    "\n",
    "    def addRear(self, item):\n",
    "        self.items.append(item)\n",
    "\n",
    "    def removeFront(self):\n",
    "        if not self.isEmpty():\n",
    "            return self.items.popleft()\n",
    "        return None\n",
    "\n",
    "    def removeRear(self):\n",
    "        if not self.isEmpty():\n",
    "            return self.items.pop()\n",
    "        return None\n",
    "\n",
    "    def size(self):\n",
    "        return len(self.items)\n",
    "\n",
    "def decrypt_message(cipher_text, alphabet_deque):\n",
    "    decrypted_message = \"\"\n",
    "\n",
    "    for char in cipher_text:\n",
    "        found = False\n",
    "        \n",
    "        for _ in range(alphabet_deque.size()):\n",
    "            current = alphabet_deque.removeFront()\n",
    "            alphabet_deque.addRear(current)\n",
    "\n",
    "            if current == char:\n",
    "                next_char = alphabet_deque.removeFront()\n",
    "                decrypted_message += next_char\n",
    "                alphabet_deque.addRear(next_char)\n",
    "                found = True\n",
    "                break\n",
    "        \n",
    "        if not found:\n",
    "            decrypted_message += char \n",
    "\n",
    "    return decrypted_message\n",
    "\n",
    "alphabet = Deque()\n",
    "for char in \"abcdefghijklmnopqrstuvwxyz\":\n",
    "    alphabet.addRear(char)\n",
    "\n",
    "input_file_path = \"input_2.txt\"\n",
    "output_file_path = \"output_2.txt\"\n",
    "\n",
    "with open(input_file_path, 'r', encoding='utf-8') as file:\n",
    "    cipher_text = file.read()\n",
    "\n",
    "decrypted_message = decrypt_message(cipher_text, alphabet)\n",
    "\n",
    "with open(output_file_path, 'w', encoding='utf-8') as output_file:\n",
    "    output_file.write(decrypted_message)\n",
    "\n",
    "print(\"Расшифрованное сообщение:\")\n",
    "print(decrypted_message)"
   ]
  },
  {
   "cell_type": "markdown",
   "id": "c0894f47",
   "metadata": {
    "id": "c0894f47"
   },
   "source": [
    "### Задание №3\n",
    "Даны три стержня и n дисков различного размера. Диски можно надевать на стержни, образуя из них башни. Перенести n дисков со стержня А на стержень С, сохранив их первоначальный порядок. При переносе дисков необходимо соблюдать следующие правила:\n",
    "- на каждом шаге со стержня на стержень переносить только один диск;\n",
    "- диск нельзя помещать на диск меньшего размера;\n",
    "- для промежуточного хранения можно использовать стержень В.\n",
    "Реализовать алгоритм, используя три стека вместо стержней А, В, С. Информация о дисках хранится в исходном файле."
   ]
  },
  {
   "cell_type": "code",
   "execution_count": null,
   "id": "9e91a9d4",
   "metadata": {
    "id": "9e91a9d4"
   },
   "outputs": [
    {
     "name": "stdout",
     "output_type": "stream",
     "text": [
      "Переместить диск 1 с A на C\n",
      "Переместить диск 2 с A на B\n",
      "Переместить диск 1 с C на B\n",
      "Переместить диск 3 с A на C\n",
      "Переместить диск 1 с B на A\n",
      "Переместить диск 2 с B на C\n",
      "Переместить диск 1 с A на C\n"
     ]
    }
   ],
   "source": [
    "class Stack:\n",
    "    def __init__(self, name):\n",
    "        self.items = []\n",
    "        self.name = name  \n",
    "\n",
    "    def isEmpty(self):\n",
    "        return len(self.items) == 0\n",
    "\n",
    "    def push(self, item):\n",
    "        self.items.append(item)\n",
    "\n",
    "    def pop(self):\n",
    "        if not self.isEmpty():\n",
    "            return self.items.pop()\n",
    "        return None\n",
    "\n",
    "    def peek(self):\n",
    "        if not self.isEmpty():\n",
    "            return self.items[-1]\n",
    "        return None\n",
    "\n",
    "    def size(self):\n",
    "        return len(self.items)\n",
    "\n",
    "\n",
    "def hanoi(n, source, target, auxiliary):\n",
    "    if n == 1:\n",
    "        print(f\"Переместить диск {n} с {source.name} на {target.name}\")\n",
    "    else:\n",
    "        hanoi(n - 1, source, auxiliary, target)\n",
    "        print(f\"Переместить диск {n} с {source.name} на {target.name}\")\n",
    "        hanoi(n - 1, auxiliary, target, source)\n",
    "\n",
    "\n",
    "def main():\n",
    "    input_file_path = '/home/govnofedocyan/siaod_govno/sIIIIII_2labochla/input_3.txt'\n",
    "    with open(input_file_path, 'r', encoding='utf-8') as file:\n",
    "        n = int(file.readline().strip())  \n",
    "        disks = list(map(int, file.readline().strip().split()))  \n",
    "\n",
    "    A = Stack('A')  \n",
    "    B = Stack('B')  \n",
    "    C = Stack('C') \n",
    "\n",
    "    for disk in disks:\n",
    "        A.push(disk)\n",
    "\n",
    "    hanoi(n, A, C, B)\n",
    "\n",
    "main()"
   ]
  },
  {
   "cell_type": "markdown",
   "id": "e5b0be17",
   "metadata": {
    "id": "e5b0be17"
   },
   "source": [
    "### Задание №4\n",
    "Дан текстовый файл с программой на алгоритмическом языке. За один просмотр файла проверить баланс круглых скобок в тексте, используя стек."
   ]
  },
  {
   "cell_type": "code",
   "execution_count": null,
   "id": "5b1df60a",
   "metadata": {
    "id": "5b1df60a"
   },
   "outputs": [
    {
     "name": "stdout",
     "output_type": "stream",
     "text": [
      "Баланс круглых скобок в коде: Правильный\n"
     ]
    }
   ],
   "source": [
    "\n",
    "class Stack:\n",
    "    def __init__(self):\n",
    "        self.items = []\n",
    "\n",
    "    def isEmpty(self):\n",
    "        return len(self.items) == 0\n",
    "\n",
    "    def push(self, item):\n",
    "        self.items.append(item)\n",
    "\n",
    "    def pop(self):\n",
    "        if not self.isEmpty():\n",
    "            return self.items.pop()\n",
    "        return None\n",
    "\n",
    "    def size(self):\n",
    "        return len(self.items)\n",
    "\n",
    "def check_parentheses_balance(text):\n",
    "    stack = Stack()\n",
    "\n",
    "    for char in text:\n",
    "        if char == '(':  \n",
    "            stack.push(char)\n",
    "        elif char == ')':  \n",
    "            if stack.isEmpty():  \n",
    "                return False\n",
    "            stack.pop() \n",
    "\n",
    "    return stack.isEmpty()\n",
    "\n",
    "input_file_path = '/home/govnofedocyan/siaod_govno/sIIIIII_2labochla/input_4.txt'\n",
    "output_file_path = '/home/govnofedocyan/siaod_govno/sIIIIII_2labochla/output_4.txt'\n",
    "\n",
    "with open(input_file_path, 'r', encoding='utf-8') as file:\n",
    "    program_code = file.read()\n",
    "\n",
    "is_balanced = check_parentheses_balance(program_code)\n",
    "\n",
    "result = \"Правильный\" if is_balanced else \"Неправильный\"\n",
    "print(f\"Баланс круглых скобок в коде: {result}\")\n",
    "\n",
    "with open(output_file_path, 'w', encoding='utf-8') as output_file:\n",
    "    output_file.write(f\"Баланс круглых скобок в коде: {result}\\n\")"
   ]
  },
  {
   "cell_type": "markdown",
   "id": "c44cdd6b",
   "metadata": {
    "id": "c44cdd6b"
   },
   "source": [
    "### Задание №5\n",
    "Дан текстовый файл с программой на алгоритмическом языке. За один просмотр файла проверить баланс квадратных скобок в тексте, используя дек."
   ]
  },
  {
   "cell_type": "code",
   "execution_count": null,
   "id": "36b8f400",
   "metadata": {
    "id": "36b8f400"
   },
   "outputs": [
    {
     "name": "stdout",
     "output_type": "stream",
     "text": [
      "Баланс квадратных скобок в коде: Правильный\n"
     ]
    }
   ],
   "source": [
    "\n",
    "class Deque:\n",
    "    def __init__(self):\n",
    "        self.items = []\n",
    "\n",
    "    def isEmpty(self):\n",
    "        return len(self.items) == 0  # Проверяем, пуст ли дек\n",
    "\n",
    "    def addFront(self, item):\n",
    "        self.items.append(item)  # Добавляем элемент в начало дека\n",
    "\n",
    "    def removeFront(self):\n",
    "        if not self.isEmpty():\n",
    "            return self.items.pop()  # Извлекаем элемент с начала дека\n",
    "        return None\n",
    "\n",
    "    def size(self):\n",
    "        return len(self.items)\n",
    "\n",
    "\n",
    "def check_square_brackets_balance(text):\n",
    "    deque = Deque()\n",
    "\n",
    "    for char in text:\n",
    "        if char == '[':  \n",
    "            deque.addFront(char)\n",
    "        elif char == ']':  \n",
    "            if deque.isEmpty():  \n",
    "                return False\n",
    "            deque.removeFront() \n",
    "    return deque.isEmpty()\n",
    "\n",
    "input_file_path = '/home/govnofedocyan/siaod_govno/sIIIIII_2labochla/input_6.txt'\n",
    "output_file_path = '/home/govnofedocyan/siaod_govno/sIIIIII_2labochla/output_6.txt'\n",
    "\n",
    "with open(input_file_path, 'r', encoding='utf-8') as file:\n",
    "    program_code = file.read()\n",
    "\n",
    "is_balanced = check_square_brackets_balance(program_code)\n",
    "\n",
    "result = \"Правильный\" if is_balanced else \"Неправильный\"\n",
    "print(f\"Баланс квадратных скобок в коде: {result}\")\n",
    "\n",
    "with open(output_file_path, 'w', encoding='utf-8') as output_file:\n",
    "    output_file.write(f\"Баланс квадратных скобок в коде: {result}\\n\")\n"
   ]
  },
  {
   "cell_type": "markdown",
   "id": "59d13dc7",
   "metadata": {
    "id": "59d13dc7"
   },
   "source": [
    "### Задание №6\n",
    "Дан файл из символов. Используя стек, за один просмотр файла напечатать сначала все цифры, затем все буквы, и, наконец, все остальные символы, сохраняя исходный порядок в каждой группе символов."
   ]
  },
  {
   "cell_type": "code",
   "execution_count": 36,
   "id": "297e36c2",
   "metadata": {
    "id": "297e36c2"
   },
   "outputs": [
    {
     "name": "stdout",
     "output_type": "stream",
     "text": [
      "654321yxzcba#@!\n"
     ]
    }
   ],
   "source": [
    "class Stack:\n",
    "    def __init__(self):\n",
    "        self.items = []\n",
    "\n",
    "    def isEmpty(self):\n",
    "        return len(self.items) == 0\n",
    "\n",
    "    def push(self, item):\n",
    "        self.items.insert(0, item)\n",
    "\n",
    "    def pop(self):\n",
    "        if not self.isEmpty():\n",
    "            return self.items.pop(0)\n",
    "        return None\n",
    "\n",
    "    def size(self):\n",
    "        return len(self.items)\n",
    "\n",
    "\n",
    "# Чтение данных\n",
    "input_text = \"abc 123 !@#z xy 456\"\n",
    "\n",
    "# Стек для цифр, букв и прочих символов\n",
    "digit_stack = Stack()\n",
    "letter_stack = Stack()\n",
    "other_stack = Stack()\n",
    "\n",
    "# Добавление символов в соответствующие стеки\n",
    "for char in input_text:\n",
    "    if char.isdigit():\n",
    "        digit_stack.push(char)\n",
    "    elif char.isalpha():\n",
    "        letter_stack.push(char)\n",
    "    elif char not in [' ', '\\n']:  # Игнорируем пробелы и переводы строк\n",
    "        other_stack.push(char)\n",
    "\n",
    "# Выводим сначала цифры, затем буквы, затем остальные символы\n",
    "result = \"\".join([digit_stack.pop() for _ in range(digit_stack.size())]) + \\\n",
    "         \"\".join([letter_stack.pop() for _ in range(letter_stack.size())]) + \\\n",
    "         \"\".join([other_stack.pop() for _ in range(other_stack.size())])\n",
    "\n",
    "print(result)  # Вывод будет в нужном порядке: цифры, буквы и другие символы"
   ]
  },
  {
   "cell_type": "markdown",
   "id": "973f68bd",
   "metadata": {
    "id": "973f68bd"
   },
   "source": [
    "### Задание №7\n",
    "Дан файл из целых чисел. Используя дек, за один просмотр файла напечатать сначала все отрицательные числа, затем все положительные числа, сохраняя исходный порядок в каждой группе."
   ]
  },
  {
   "cell_type": "code",
   "execution_count": null,
   "id": "c56fad66",
   "metadata": {
    "id": "c56fad66"
   },
   "outputs": [
    {
     "name": "stdout",
     "output_type": "stream",
     "text": [
      "-5 -2 -8 3 9 7 4\n"
     ]
    }
   ],
   "source": [
    "class Deque:\n",
    "    def __init__(self):\n",
    "        self.items = []\n",
    "\n",
    "    def isEmpty(self):\n",
    "        return len(self.items) == 0\n",
    "\n",
    "    def addRear(self, item):\n",
    "        self.items.insert(0, item)  # Добавляем в начало дека\n",
    "\n",
    "    def removeFront(self):\n",
    "        if not self.isEmpty():\n",
    "            return self.items.pop()\n",
    "        return None\n",
    "\n",
    "    def size(self):\n",
    "        return len(self.items)\n",
    "\n",
    "\n",
    "input_file_path = '/home/govnofedocyan/siaod_govno/sIIIIII_2labochla/input_7.txt'\n",
    "output_file_path = '/home/govnofedocyan/siaod_govno/sIIIIII_2labochla/output_7.txt'\n",
    "\n",
    "with open(input_file_path, 'r', encoding='utf-8') as file:\n",
    "    file_contents = file.read()\n",
    "\n",
    "numbers = list(map(int, file_contents.split()))\n",
    "\n",
    "negative_deque = Deque()  \n",
    "positive_deque = Deque()  \n",
    "\n",
    "for number in numbers:\n",
    "    if number < 0:\n",
    "        negative_deque.addRear(number)  \n",
    "    elif number > 0:\n",
    "        positive_deque.addRear(number)  \n",
    "\n",
    "result = \"\"\n",
    "while not negative_deque.isEmpty():\n",
    "    result += str(negative_deque.removeFront()) + \" \" \n",
    "\n",
    "while not positive_deque.isEmpty():\n",
    "    result += str(positive_deque.removeFront()) + \" \"  \n",
    "\n",
    "with open(output_file_path, 'w', encoding='utf-8') as output_file:\n",
    "    output_file.write(f\"Отсортированные числа:\\n{result.strip()}\")\n",
    "\n",
    "print(result.strip())"
   ]
  },
  {
   "cell_type": "markdown",
   "id": "b9228191",
   "metadata": {
    "id": "b9228191"
   },
   "source": [
    "### Задание №8\n",
    "Дан текстовый файл. Используя стек, сформировать новый текстовый файл, содержащий строки исходного файла, записанные в обратном порядке: первая строка становится последней, вторая – предпоследней и т.д."
   ]
  },
  {
   "cell_type": "code",
   "execution_count": null,
   "id": "981fbdfe",
   "metadata": {
    "id": "981fbdfe"
   },
   "outputs": [
    {
     "name": "stdout",
     "output_type": "stream",
     "text": [
      "Перевернутые строки:\n",
      "я четвертый лечу впереди\n",
      "я третий пикми\n",
      "я второй нормес\n",
      "Я первый, надеюс не последний\n",
      "\n"
     ]
    }
   ],
   "source": [
    "class Stack:\n",
    "    def __init__(self):\n",
    "        self.items = []\n",
    "\n",
    "    def isEmpty(self):\n",
    "        return len(self.items) == 0\n",
    "\n",
    "    def push(self, item):\n",
    "        self.items.insert(0, item)  \n",
    "\n",
    "    def pop(self):\n",
    "        if not self.isEmpty():\n",
    "            return self.items.pop(0)  \n",
    "        return None\n",
    "\n",
    "    def size(self):\n",
    "        return len(self.items)\n",
    "\n",
    "\n",
    "input_file_path = '/home/govnofedocyan/siaod_govno/sIIIIII_2labochla/input_8.txt'\n",
    "output_file_path = '/home/govnofedocyan/siaod_govno/sIIIIII_2labochla/output_8.txt'\n",
    "\n",
    "with open(input_file_path, 'r', encoding='utf-8') as file:\n",
    "    lines = file.readlines()\n",
    "\n",
    "stack = Stack()\n",
    "\n",
    "for line in lines:\n",
    "    stack.push(line.strip())  \n",
    "\n",
    "with open(output_file_path, 'w', encoding='utf-8') as output_file:\n",
    "    while not stack.isEmpty():\n",
    "        output_file.write(stack.pop() + '\\n')  \n",
    "print(\"Перевернутые строки:\")\n",
    "with open(output_file_path, 'r', encoding='utf-8') as output_file:\n",
    "    print(output_file.read())"
   ]
  },
  {
   "cell_type": "markdown",
   "id": "rental-jerusalem",
   "metadata": {
    "id": "rental-jerusalem"
   },
   "source": [
    "### Вывод\n"
   ]
  },
  {
   "cell_type": "markdown",
   "id": "0c2b8899",
   "metadata": {
    "id": "0c2b8899"
   },
   "source": [
    "я сказал небольшой вывод ты мудак\n",
    "\n",
    "ChatGPT сказал:\n",
    "Извиняюсь за излишнюю подробность. Вот более краткий вывод:\n",
    "\n",
    "Вывод к лабораторной работе\n",
    "В ходе лабораторной работы были исследованы структуры данных стек и дека. Эти структуры полезны для решения задач, где требуется обработка данных в определённом порядке (LIFO для стека и двусторонний доступ для дека). Задачи, такие как проверка баланса скобок, сортировка и расшифровка текста, были эффективно решены с их помощью. Работа с этими структурами помогает лучше понять их принцип работы и оптимальное применение в различных ситуациях."
   ]
  },
  {
   "cell_type": "code",
   "execution_count": null,
   "id": "a0d13d29-0e40-4926-b801-68608e0adc9a",
   "metadata": {},
   "outputs": [],
   "source": []
  }
 ],
 "metadata": {
  "colab": {
   "provenance": [
    {
     "file_id": "1SJnopeql2j1MhzcaJ8o68KaPzPnynIeK",
     "timestamp": 1676536264821
    }
   ]
  },
  "kernelspec": {
   "display_name": "Python 3",
   "language": "python",
   "name": "python3"
  },
  "language_info": {
   "codemirror_mode": {
    "name": "ipython",
    "version": 3
   },
   "file_extension": ".py",
   "mimetype": "text/x-python",
   "name": "python",
   "nbconvert_exporter": "python",
   "pygments_lexer": "ipython3",
   "version": "3.12.9"
  }
 },
 "nbformat": 4,
 "nbformat_minor": 5
}
